﻿{
  "metadata": {
    "name": "ReviewDataProcessing",
    "kernelspec": {
      "language": "scala",
      "name": "spark2-scala"
    },
    "language_info": {
      "codemirror_mode": "text/x-scala",
      "file_extension": ".scala",
      "mimetype": "text/x-scala",
      "name": "scala",
      "pygments_lexer": "scala"
    }
  },
  "nbformat": 4,
  "nbformat_minor": 2,
  "cells": [
    {
      "cell_type": "markdown",
      "metadata": {},
      "source": " \nLoad data"
    },
    {
      "cell_type": "markdown",
      "metadata": {},
      "source": "Load Spark-nlp lib\n\nhttps://nlp.johnsnowlabs.com/2021/01/09/classifierdl_use_emotion_en.html"
    },
    {
      "cell_type": "code",
      "execution_count": 2,
      "metadata": {
        "autoscroll": "auto"
      },
      "outputs": [],
      "source": "%spark.conf\nspark.jars hdfs:///user/xl3341/bdad_proj/spark-nlp-spark24_2.11-3.4.3.jar"
    },
    {
      "cell_type": "code",
      "execution_count": 3,
      "metadata": {
        "autoscroll": "auto"
      },
      "outputs": [],
      "source": "// import com.johnsnowlabs.nlp.SparkNLP\n// val sp \u003d SparkNLP.start()\nval reviewDF \u003d sp.read.json(\"bdad_proj/yelp_academic_dataset_review.json\")\nreviewDF.show"
    },
    {
      "cell_type": "code",
      "execution_count": 4,
      "metadata": {
        "autoscroll": "auto"
      },
      "outputs": [],
      "source": "reviewDF.printSchema\nval cachedReviewDF \u003d reviewDF.cache()\n    .na.drop(\"any\")\n    .filter(length($\"date\") \u003d\u003d\u003d 19 \u0026\u0026 $\"business_id\" \u003d!\u003d \"\" \u0026\u0026 $\"review_id\" \u003d!\u003d \"\" \u0026\u0026 $\"text\" \u003d!\u003d \"\" \u0026\u0026 $\"user_id\" \u003d!\u003d \"\")\n    .withColumn(\"date\", to_timestamp($\"date\", \"yyyy-MM-dd\").cast(\"timestamp\"))\n    .withColumn(\"cleanse_text\", regexp_replace($\"text\", \"[\\\\W\u0026\u0026[^\\\\s+]]\", \"\"))\n    .withColumn(\"words\", split($\"cleanse_text\", \" \"))\n    .drop($\"cleanse_text\")\ncachedReviewDF.show\ncachedReviewDF.printSchema"
    },
    {
      "cell_type": "markdown",
      "metadata": {},
      "source": "Persistence Data"
    },
    {
      "cell_type": "code",
      "execution_count": 6,
      "metadata": {
        "autoscroll": "auto"
      },
      "outputs": [],
      "source": "val filepath \u003d \"bdad_proj/review_data\"\ncachedReviewDF.write.mode(\"overwrite\").parquet(filepath)"
    }
  ]
}