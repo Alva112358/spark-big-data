﻿{
  "metadata": {
    "name": "UserDataProcessing",
    "kernelspec": {
      "language": "scala",
      "name": "spark2-scala"
    },
    "language_info": {
      "codemirror_mode": "text/x-scala",
      "file_extension": ".scala",
      "mimetype": "text/x-scala",
      "name": "scala",
      "pygments_lexer": "scala"
    }
  },
  "nbformat": 4,
  "nbformat_minor": 2,
  "cells": [
    {
      "cell_type": "markdown",
      "metadata": {},
      "source": "### Data profiling, cleaning, ingestion"
    },
    {
      "cell_type": "code",
      "execution_count": 1,
      "metadata": {
        "autoscroll": "auto"
      },
      "outputs": [],
      "source": "val filePath \u003d \"bdad_proj/yelp_academic_dataset_user.json\""
    },
    {
      "cell_type": "code",
      "execution_count": 2,
      "metadata": {
        "autoscroll": "auto"
      },
      "outputs": [],
      "source": "val rawDF \u003d spark.read\n    .option(\"inferSchema\",\"true\")\n    .json(filePath)"
    },
    {
      "cell_type": "code",
      "execution_count": 3,
      "metadata": {
        "autoscroll": "auto"
      },
      "outputs": [],
      "source": "rawDF.cache"
    },
    {
      "cell_type": "code",
      "execution_count": 4,
      "metadata": {
        "autoscroll": "auto"
      },
      "outputs": [],
      "source": "rawDF.printSchema"
    },
    {
      "cell_type": "code",
      "execution_count": 5,
      "metadata": {
        "autoscroll": "auto"
      },
      "outputs": [],
      "source": "val baseDF \u003d rawDF.select(\n    \"average_stars\",\n    \"compliment_cool\",\n    \"compliment_cute\",\n    \"compliment_funny\",\n    \"compliment_hot\",\n    \"compliment_list\",\n    \"compliment_more\",\n    \"compliment_note\",\n    \"compliment_photos\",\n    \"compliment_plain\",\n    \"compliment_profile\",\n    \"compliment_writer\",\n    \"cool\",\n    \"elite\",\n    \"fans\",\n    \"funny\",\n    \"name\",\n    \"review_count\",\n    \"useful\",\n    \"user_id\",\n    \"yelping_since\"\n )"
    },
    {
      "cell_type": "markdown",
      "metadata": {},
      "source": "Reformat \"yelping_since\" field.\nTransfer it to timestamp."
    },
    {
      "cell_type": "code",
      "execution_count": 7,
      "metadata": {
        "autoscroll": "auto"
      },
      "outputs": [],
      "source": "val transfered_yelping_since \u003d baseDF\n    .na.drop()\n    .withColumn(\"yelping_since_transfered\", to_timestamp($\"yelping_since\", \"yyyy-MM-dd HH:mm:ss\"))\n    .drop(\"yelping_since\")\ntransfered_yelping_since.show\n\n"
    },
    {
      "cell_type": "markdown",
      "metadata": {},
      "source": "We noticed some people\u0027s name have illegal format.\nWe need to trim it."
    },
    {
      "cell_type": "code",
      "execution_count": 9,
      "metadata": {
        "autoscroll": "auto"
      },
      "outputs": [],
      "source": "val reforated_name_DF \u003d transfered_yelping_since\n    .withColumn(\"reformat_name\", trim(col(\"name\")))\n    .drop(\"name\")"
    },
    {
      "cell_type": "markdown",
      "metadata": {},
      "source": "\u0027Anaseini and Ｊｏａｎｎｅ is allowed because they can be forieigners whose name is really looking like this."
    },
    {
      "cell_type": "code",
      "execution_count": 11,
      "metadata": {
        "autoscroll": "auto"
      },
      "outputs": [],
      "source": "reforated_name_DF.filter(col(\"user_id\").isNull).count\nreforated_name_DF.filter(col(\"reformat_name\").isNull).count\n"
    },
    {
      "cell_type": "markdown",
      "metadata": {},
      "source": "Summary:\n\nThis is already a clean dataset given by Yelp. There is no null value in the table.\n\nSome people have a huge \"useful\" count and \"review_count\". They got the \"elite\" title every year while some users don\u0027t quite use Yelp that frequently. They may be the influencers that we are looking for. Thus in the following analysis we should take of their weight because they may be more valueable than normal customers. Their review may be more professional.\nThere also many users have lots of friends. They may take Yelp as one of their main social media thus they have more positive attitude while leaving a comment. An influencer\u0027s friend may also be a influencer. We would like to learn the relationship between those frequent users in our real analysis."
    },
    {
      "cell_type": "code",
      "execution_count": 13,
      "metadata": {
        "autoscroll": "auto"
      },
      "outputs": [],
      "source": "val outputDir \u003d \"bdad_proj/user_data\""
    },
    {
      "cell_type": "code",
      "execution_count": 14,
      "metadata": {
        "autoscroll": "auto"
      },
      "outputs": [],
      "source": "reforated_name_DF.write.mode(\"overwrite\").parquet(outputDir)"
    }
  ]
}