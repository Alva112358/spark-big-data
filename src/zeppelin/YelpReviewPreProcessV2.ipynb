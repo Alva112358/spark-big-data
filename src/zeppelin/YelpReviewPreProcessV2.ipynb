﻿{
  "metadata": {
    "name": "YelpReviewPreProcessV2",
    "kernelspec": {
      "language": "scala",
      "name": "spark2-scala"
    },
    "language_info": {
      "codemirror_mode": "text/x-scala",
      "file_extension": ".scala",
      "mimetype": "text/x-scala",
      "name": "scala",
      "pygments_lexer": "scala"
    }
  },
  "nbformat": 4,
  "nbformat_minor": 2,
  "cells": [
    {
      "cell_type": "code",
      "execution_count": 0,
      "metadata": {
        "autoscroll": "auto"
      },
      "outputs": [],
      "source": "import org.apache.spark.ml.feature.{Word2Vec, Word2VecModel}"
    },
    {
      "cell_type": "code",
      "execution_count": 1,
      "metadata": {
        "autoscroll": "auto"
      },
      "outputs": [],
      "source": "val df \u003d spark.read.format(\"parquet\").load(\"yelp\")"
    },
    {
      "cell_type": "code",
      "execution_count": 2,
      "metadata": {
        "autoscroll": "auto"
      },
      "outputs": [],
      "source": "df.show"
    },
    {
      "cell_type": "code",
      "execution_count": 3,
      "metadata": {
        "autoscroll": "auto"
      },
      "outputs": [],
      "source": "val starDf \u003d df.select(\"stars\")\nstarDf.show"
    },
    {
      "cell_type": "code",
      "execution_count": 4,
      "metadata": {
        "autoscroll": "auto"
      },
      "outputs": [],
      "source": "spark.sql(\"USE jl11998\")\nspark.sql(\"CREATE TABLE yelp_review (user_id STRING, business_id STRING, review_id STRING, word2vec array\u003cFLOAT\u003e, stars FLOAT, date STRING, timestamp INT)\")"
    },
    {
      "cell_type": "code",
      "execution_count": 5,
      "metadata": {
        "autoscroll": "auto"
      },
      "outputs": [],
      "source": "df.write.mode(\"overwrite\").saveAsTable(\"yelp_review_tbl\")"
    },
    {
      "cell_type": "code",
      "execution_count": 6,
      "metadata": {
        "autoscroll": "auto"
      },
      "outputs": [],
      "source": "import org.apache.spark.ml.evaluation.RegressionEvaluator\nimport org.apache.spark.ml.recommendation.ALS"
    },
    {
      "cell_type": "code",
      "execution_count": 7,
      "metadata": {
        "autoscroll": "auto"
      },
      "outputs": [],
      "source": "val ratings \u003d df.select(\"user_id\", \"business_id\", \"stars\", \"timestamp\")\nratings.show()"
    },
    {
      "cell_type": "code",
      "execution_count": 8,
      "metadata": {
        "autoscroll": "auto"
      },
      "outputs": [],
      "source": "ratings.select(\"user_id\").distinct().count()"
    },
    {
      "cell_type": "code",
      "execution_count": 9,
      "metadata": {
        "autoscroll": "auto"
      },
      "outputs": [],
      "source": "import org.apache.spark.sql.DataFrame\nimport org.apache.spark.sql.functions\nimport org.apache.spark.sql.types.{StructField,StructType,IntegerType, LongType}\nimport org.apache.spark.sql.Row\n\ndef generate_index(df: DataFrame, col: String, new_col_name: String):DataFrame \u003d {\n    val df_item \u003d df.select(col).distinct()\n    val new_schema \u003d StructType(df_item.schema.fields ++ Array(StructField(new_col_name, LongType, nullable \u003d false)))\n    val df_rdd \u003d df_item.rdd.zipWithIndex()\n    spark.createDataFrame(df_rdd.map{case (row, index) \u003d\u003e Row.fromSeq(row.toSeq ++ Array(index))}, new_schema)    \n}"
    },
    {
      "cell_type": "code",
      "execution_count": 10,
      "metadata": {
        "autoscroll": "auto"
      },
      "outputs": [],
      "source": "val ratings_user \u003d ratings.select(\"user_id\").distinct()\nval ratings_user_with_index \u003d generate_index(ratings_user, \"user_id\", \"user_index\")\nratings_user_with_index.show()"
    },
    {
      "cell_type": "code",
      "execution_count": 11,
      "metadata": {
        "autoscroll": "auto"
      },
      "outputs": [],
      "source": "val r1 \u003d ratings.join(ratings_user_with_index, \"user_id\")\nr1.show()"
    },
    {
      "cell_type": "code",
      "execution_count": 12,
      "metadata": {
        "autoscroll": "auto"
      },
      "outputs": [],
      "source": "r1.count()"
    },
    {
      "cell_type": "code",
      "execution_count": 13,
      "metadata": {
        "autoscroll": "auto"
      },
      "outputs": [],
      "source": "r1.select(\"user_index\").distinct().count()"
    },
    {
      "cell_type": "code",
      "execution_count": 14,
      "metadata": {
        "autoscroll": "auto"
      },
      "outputs": [],
      "source": "val ratings_item \u003d ratings.select(\"business_id\").distinct()\nval ratings_item_with_index \u003d generate_index(ratings_item, \"business_id\", \"business_index\")\nratings_item_with_index.show()"
    },
    {
      "cell_type": "code",
      "execution_count": 15,
      "metadata": {
        "autoscroll": "auto"
      },
      "outputs": [],
      "source": "val ratings_review \u003d r1.join(ratings_item_with_index, \"business_id\")\nratings_review.show()"
    },
    {
      "cell_type": "code",
      "execution_count": 16,
      "metadata": {
        "autoscroll": "auto"
      },
      "outputs": [],
      "source": "ratings_review.write\n        .format(\"parquet\")\n        .mode(\"overwrite\")\n        .option(\"compression\", \"snappy\")\n        .save(\"yelp_preprocess/yelp_review_with_ub_index\")"
    },
    {
      "cell_type": "code",
      "execution_count": 17,
      "metadata": {
        "autoscroll": "auto"
      },
      "outputs": [],
      "source": "val Array(training, test) \u003d ratings_review.randomSplit(Array(0.8, 0.2))\n\nval als \u003d new ALS()\n        .setMaxIter(5)\n        .setRegParam(0.01)\n        .setUserCol(\"user_index\")\n        .setItemCol(\"business_index\")\n        .setRatingCol(\"stars\")\n\nval model \u003d als.fit(training)"
    },
    {
      "cell_type": "code",
      "execution_count": 18,
      "metadata": {
        "autoscroll": "auto"
      },
      "outputs": [],
      "source": "model.setColdStartStrategy(\"drop\")\nval pred \u003d model.transform(test)"
    },
    {
      "cell_type": "code",
      "execution_count": 19,
      "metadata": {
        "autoscroll": "auto"
      },
      "outputs": [],
      "source": "pred.show()"
    },
    {
      "cell_type": "code",
      "execution_count": 20,
      "metadata": {
        "autoscroll": "auto"
      },
      "outputs": [],
      "source": "import org.apache.spark.ml.evaluation.RegressionEvaluator\n\nval evaluator \u003d new RegressionEvaluator().setMetricName(\"rmse\").setLabelCol(\"stars\").setPredictionCol(\"prediction\")\nval rmse \u003d evaluator.evaluate(pred)\nprintln(s\"RMSE \u003d $rmse\")"
    },
    {
      "cell_type": "code",
      "execution_count": 21,
      "metadata": {
        "autoscroll": "auto"
      },
      "outputs": [],
      "source": "val itemRec \u003d model.recommendForAllItems(10)\nitemRec.show()"
    }
  ]
}