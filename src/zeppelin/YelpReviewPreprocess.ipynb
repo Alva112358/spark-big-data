﻿{
  "metadata": {
    "name": "YelpReviewPreprocess",
    "kernelspec": {
      "language": "scala",
      "name": "spark2-scala"
    },
    "language_info": {
      "codemirror_mode": "text/x-scala",
      "file_extension": ".scala",
      "mimetype": "text/x-scala",
      "name": "scala",
      "pygments_lexer": "scala"
    }
  },
  "nbformat": 4,
  "nbformat_minor": 2,
  "cells": [
    {
      "cell_type": "code",
      "execution_count": 0,
      "metadata": {
        "autoscroll": "auto"
      },
      "outputs": [],
      "source": "import org.apache.spark.ml.feature.{Word2Vec, Word2VecModel}"
    },
    {
      "cell_type": "code",
      "execution_count": 1,
      "metadata": {
        "autoscroll": "auto"
      },
      "outputs": [],
      "source": "// STEP 1 \u003d\u003e APPLY WORD2VEC.\nval model \u003d Word2VecModel.load(\"model/word2vec\")\n\nval df \u003d spark.read.format(\"json\").load(\"loudacre/yelp\")\n\nval reviews \u003d df.select(col(\"text\"))\n\nval reviews_arr \u003d reviews.select(split(col(\"text\"), \" \").as(\"filteredPhrases\"))\n\nval result \u003d model.transform(reviews_arr)\n\nval source_df \u003d df.withColumn(\"rid\", monotonically_increasing_id())\n\nval target_df \u003d result.withColumn(\"rid\", monotonically_increasing_id())\n\nvar res \u003d source_df.as(\"df1\")\n    .join(target_df.as(\"df2\"), source_df(\"rid\") \u003d\u003d\u003d target_df(\"rid\"))\n    .select(\"df1.user_id\", \"df1.business_id\", \"df1.review_id\", \"df2.word2vec\", \"df1.stars\", \"df1.date\")\n\n\n// STEP 2 \u003d\u003e TO_UNIX_TIMESTAMP.\nval res2 \u003d res.withColumn(\"timestamp\", unix_timestamp(col(\"date\")))\n\n// STEP 3 \u003d\u003e SAVE FILES.\nres2.write.format(\"parquet\").mode(\"overwrite\").option(\"compression\", \"snappy\").save(\"yelp\")"
    },
    {
      "cell_type": "code",
      "execution_count": 2,
      "metadata": {
        "autoscroll": "auto"
      },
      "outputs": [],
      "source": "// I just show the result of data preprocessing here.\nval review_result \u003d spark.read.format(\"parquet\").load(\"yelp\")\nreview_result.show\n"
    }
  ]
}