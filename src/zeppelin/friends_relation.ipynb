﻿{
  "metadata": {
    "name": "bdad_project",
    "kernelspec": {
      "language": "scala",
      "name": "spark2-scala"
    },
    "language_info": {
      "codemirror_mode": "text/x-scala",
      "file_extension": ".scala",
      "mimetype": "text/x-scala",
      "name": "scala",
      "pygments_lexer": "scala"
    }
  },
  "nbformat": 4,
  "nbformat_minor": 2,
  "cells": [
    {
      "cell_type": "markdown",
      "metadata": {},
      "source": "### Data profiling, cleaning, ingestion"
    },
    {
      "cell_type": "code",
      "execution_count": 1,
      "metadata": {
        "autoscroll": "auto"
      },
      "outputs": [],
      "source": "val filePath \u003d \"project/yelp_academic_dataset_user.json\""
    },
    {
      "cell_type": "code",
      "execution_count": 2,
      "metadata": {
        "autoscroll": "auto"
      },
      "outputs": [],
      "source": "val rawDF \u003d spark.read\n    .option(\"inferSchema\",\"true\")\n    .json(filePath)"
    },
    {
      "cell_type": "code",
      "execution_count": 3,
      "metadata": {
        "autoscroll": "auto"
      },
      "outputs": [],
      "source": "rawDF.cache()"
    },
    {
      "cell_type": "code",
      "execution_count": 4,
      "metadata": {
        "autoscroll": "auto"
      },
      "outputs": [],
      "source": "z.show(rawDF)"
    },
    {
      "cell_type": "code",
      "execution_count": 5,
      "metadata": {
        "autoscroll": "auto"
      },
      "outputs": [],
      "source": "z.show(rawDF.describe())"
    },
    {
      "cell_type": "code",
      "execution_count": 6,
      "metadata": {
        "autoscroll": "auto"
      },
      "outputs": [],
      "source": "rawDF.printSchema"
    },
    {
      "cell_type": "code",
      "execution_count": 7,
      "metadata": {
        "autoscroll": "auto"
      },
      "outputs": [],
      "source": "val baseDF \u003d rawDF.select(\n    \"average_stars\",\n    \"compliment_cool\",\n    \"compliment_cute\",\n    \"compliment_funny\",\n    \"compliment_hot\",\n    \"compliment_list\",\n    \"compliment_more\",\n    \"compliment_note\",\n    \"compliment_photos\",\n    \"compliment_plain\",\n    \"compliment_profile\",\n    \"compliment_writer\",\n    \"cool\",\n    \"elite\",\n    \"fans\",\n    \"funny\",\n    \"name\",\n    \"review_count\",\n    \"useful\",\n    \"user_id\",\n    \"yelping_since\"\n )"
    },
    {
      "cell_type": "code",
      "execution_count": 8,
      "metadata": {
        "autoscroll": "auto"
      },
      "outputs": [],
      "source": "z.show(baseDF)"
    },
    {
      "cell_type": "code",
      "execution_count": 9,
      "metadata": {
        "autoscroll": "auto"
      },
      "outputs": [],
      "source": "z.show(baseDF.describe())"
    },
    {
      "cell_type": "markdown",
      "metadata": {},
      "source": "Reformat \"yelping_since\" field.\nTransfer it to timestamp."
    },
    {
      "cell_type": "code",
      "execution_count": 11,
      "metadata": {
        "autoscroll": "auto"
      },
      "outputs": [],
      "source": "val transfered_yelping_since \u003d baseDF\n    .withColumn(\"yelping_since_transfered\", to_timestamp($\"yelping_since\", \"yyyy-MM-dd HH:mm:ss\"))\n    .drop(\"yelping_since\")\n\n"
    },
    {
      "cell_type": "code",
      "execution_count": 12,
      "metadata": {
        "autoscroll": "auto"
      },
      "outputs": [],
      "source": "transfered_yelping_since.printSchema"
    },
    {
      "cell_type": "code",
      "execution_count": 13,
      "metadata": {
        "autoscroll": "auto"
      },
      "outputs": [],
      "source": "z.show(transfered_yelping_since)"
    },
    {
      "cell_type": "markdown",
      "metadata": {},
      "source": "We noticed some people\u0027s name have illegal format.\nWe need to trim it."
    },
    {
      "cell_type": "code",
      "execution_count": 15,
      "metadata": {
        "autoscroll": "auto"
      },
      "outputs": [],
      "source": "val reforated_name_DF \u003d transfered_yelping_since\n    .withColumn(\"reformat_name\", trim(col(\"name\")))\n    .drop(\"name\")"
    },
    {
      "cell_type": "code",
      "execution_count": 16,
      "metadata": {
        "autoscroll": "auto"
      },
      "outputs": [],
      "source": "z.show(reforated_name_DF)"
    },
    {
      "cell_type": "code",
      "execution_count": 17,
      "metadata": {
        "autoscroll": "auto"
      },
      "outputs": [],
      "source": "z.show(reforated_name_DF.describe())"
    },
    {
      "cell_type": "markdown",
      "metadata": {},
      "source": "\u0027Anaseini and Ｊｏａｎｎｅ is allowed because they can be forieigners whose name is really looking like this."
    },
    {
      "cell_type": "code",
      "execution_count": 19,
      "metadata": {
        "autoscroll": "auto"
      },
      "outputs": [],
      "source": "reforated_name_DF.filter(col(\"user_id\").isNull).count\nreforated_name_DF.filter(col(\"reformat_name\").isNull).count\n"
    },
    {
      "cell_type": "markdown",
      "metadata": {},
      "source": "Summary:\n\nThis is already a clean dataset given by Yelp. There is no null value in the table.\n\nSome people have a huge \"useful\" count and \"review_count\". They got the \"elite\" title every year while some users don\u0027t quite use Yelp that frequently. They may be the influencers that we are looking for. Thus in the following analysis we should take of their weight because they may be more valueable than normal customers. Their review may be more professional.\nThere also many users have lots of friends. They may take Yelp as one of their main social media thus they have more positive attitude while leaving a comment. An influencer\u0027s friend may also be a influencer. We would like to learn the relationship between those frequent users in our real analysis."
    },
    {
      "cell_type": "code",
      "execution_count": 21,
      "metadata": {
        "autoscroll": "auto"
      },
      "outputs": [],
      "source": "val outputDir \u003d \"project/data_after_cleaning\""
    },
    {
      "cell_type": "code",
      "execution_count": 22,
      "metadata": {
        "autoscroll": "auto"
      },
      "outputs": [],
      "source": "reforated_name_DF.write.mode(\"overwrite\").option(\"compression\", \"snappy\").save(outputDir)"
    },
    {
      "cell_type": "code",
      "execution_count": 23,
      "metadata": {
        "autoscroll": "auto"
      },
      "outputs": [],
      "source": "val friendsNetDF \u003d rawDF.select(\n    \"friends\",\n    \"fans\",\n    \"name\",\n    \"user_id\"\n)"
    },
    {
      "cell_type": "code",
      "execution_count": 24,
      "metadata": {
        "autoscroll": "auto"
      },
      "outputs": [],
      "source": "val net10 \u003d friendsNetDF.orderBy(col(\"fans\").desc).limit(10)\n//val net10 \u003d friendsNetDF.filter(col(\"fans\") \u003c 100).orderBy(col(\"fans\").desc).limit(10)\nnet10.show()"
    },
    {
      "cell_type": "code",
      "execution_count": 25,
      "metadata": {
        "autoscroll": "auto"
      },
      "outputs": [],
      "source": "val net10_list \u003d net10.select(split(col(\"friends\"),\",\").as(\"friends_list\"), col(\"fans\"), col(\"user_id\"), col(\"name\"))"
    },
    {
      "cell_type": "code",
      "execution_count": 26,
      "metadata": {
        "autoscroll": "auto"
      },
      "outputs": [],
      "source": "//net10.withColumn(\"tmp\", arrays_zip(col(\"friends\"), col(\"user_id\"))).show()\nnet10_list.show()"
    },
    {
      "cell_type": "code",
      "execution_count": 27,
      "metadata": {
        "autoscroll": "auto"
      },
      "outputs": [],
      "source": "val edge \u003d net10_list.withColumn(\"his_friend\", explode(col(\"friends_list\"))).drop(\"friends_list\", \"fans\", \"name\")\nedge.show()"
    },
    {
      "cell_type": "code",
      "execution_count": 28,
      "metadata": {
        "autoscroll": "auto"
      },
      "outputs": [],
      "source": "val vert \u003d net10_list.select(col(\"user_id\"), col(\"name\"), col(\"fans\"))\nvert.show()"
    },
    {
      "cell_type": "code",
      "execution_count": 29,
      "metadata": {
        "autoscroll": "auto"
      },
      "outputs": [],
      "source": "val outEdge \u003d \"project/edge\"\nval outVert \u003d \"project/vert\""
    },
    {
      "cell_type": "code",
      "execution_count": 30,
      "metadata": {
        "autoscroll": "auto"
      },
      "outputs": [],
      "source": "edge\r\n      .write\r\n      .option(\"sep\",\",\")\r\n      .mode(\"overwrite\")\r\n      .csv(outEdge)"
    },
    {
      "cell_type": "code",
      "execution_count": 31,
      "metadata": {
        "autoscroll": "auto"
      },
      "outputs": [],
      "source": "vert\r\n      .write\r\n      .option(\"sep\",\",\")\r\n      .option(\"header\", true)\r\n      .mode(\"overwrite\")\r\n      .csv(outVert)"
    }
  ]
}